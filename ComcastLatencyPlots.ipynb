{
  "cells": [
    {
      "cell_type": "markdown",
      "metadata": {
        "id": "view-in-github",
        "colab_type": "text"
      },
      "source": [
        "<a href=\"https://colab.research.google.com/github/vasanta-chaganti/ektelo/blob/master/ComcastLatencyPlots.ipynb\" target=\"_parent\"><img src=\"https://colab.research.google.com/assets/colab-badge.svg\" alt=\"Open In Colab\"/></a>"
      ]
    },
    {
      "cell_type": "code",
      "execution_count": 1,
      "metadata": {
        "id": "w6MmeBUBJ-9E"
      },
      "outputs": [],
      "source": [
        "# @title Setup\n",
        "from google.colab import auth\n",
        "from google.cloud import bigquery\n",
        "from google.colab import data_table\n",
        "\n",
        "project = 'measurement-lab' # Project ID inserted based on the query results selected to explore\n",
        "location = 'US' # Location inserted based on the query results selected to explore\n",
        "client = bigquery.Client(project=project, location=location)\n",
        "data_table.enable_dataframe_formatter()\n",
        "auth.authenticate_user()"
      ]
    },
    {
      "cell_type": "code",
      "source": [
        "import pandas as pd"
      ],
      "metadata": {
        "id": "p4b-I1IviltE"
      },
      "execution_count": 3,
      "outputs": []
    },
    {
      "cell_type": "markdown",
      "metadata": {
        "id": "pj42soltXW_H"
      },
      "source": [
        "## Reference SQL syntax from the original job\n",
        "Use the ```jobs.query```\n",
        "[method](https://cloud.google.com/bigquery/docs/reference/rest/v2/jobs/query) to\n",
        "return the SQL syntax from the job. This can be copied from the output cell\n",
        "below to edit the query now or in the future. Alternatively, you can use\n",
        "[this link](https://console.cloud.google.com/bigquery?j=measurement-lab:US:bquxjob_157ac143_18dd583a910)\n",
        "back to BigQuery to edit the query within the BigQuery user interface."
      ]
    },
    {
      "cell_type": "code",
      "execution_count": 4,
      "metadata": {
        "id": "KxSqPfAeXW_K",
        "outputId": "66265f91-745e-4232-da9f-7efd78f5e4d9",
        "colab": {
          "base_uri": "https://localhost:8080/"
        }
      },
      "outputs": [
        {
          "output_type": "stream",
          "name": "stdout",
          "text": [
            "SELECT\n",
            "  clientASN,\n",
            "  latencyMs\n",
            "FROM\n",
            "  `measurement-lab.cloudflare.speedtest_speed1`,\n",
            "  UNNEST(latencyMs) AS latency\n",
            "WHERE\n",
            "  clientASN = 7922\n",
            "ORDER BY \n",
            "  latency DESC\n"
          ]
        }
      ],
      "source": [
        "# Running this code will display the query used to generate your previous job\n",
        "\n",
        "job = client.get_job('bquxjob_157ac143_18dd583a910') # Job ID inserted based on the query results selected to explore\n",
        "print(job.query)"
      ]
    },
    {
      "cell_type": "markdown",
      "metadata": {
        "id": "eY-wNOGO11ON"
      },
      "source": [
        "# Result set loaded from BigQuery job as a DataFrame\n",
        "Query results are referenced from the Job ID ran from BigQuery and the query\n",
        "does not need to be re-run to explore results. The ```to_dataframe```\n",
        "[method](https://googleapis.dev/python/bigquery/latest/generated/google.cloud.bigquery.job.QueryJob.html#google.cloud.bigquery.job.QueryJob.to_dataframe)\n",
        "downloads the results to a Pandas DataFrame by using the BigQuery Storage API.\n",
        "\n",
        "To edit query syntax, you can do so from the BigQuery SQL editor or in the\n",
        "```Optional:``` sections below."
      ]
    },
    {
      "cell_type": "code",
      "execution_count": 5,
      "metadata": {
        "id": "bIw82qhuHWy0",
        "outputId": "b2ac3c1b-50f6-41ca-ea42-44fde7843240",
        "colab": {
          "base_uri": "https://localhost:8080/",
          "height": 436
        }
      },
      "outputs": [
        {
          "output_type": "stream",
          "name": "stdout",
          "text": [
            "Warning: total number of rows (10045938) exceeds max_rows (20000). Falling back to pandas display.\n"
          ]
        },
        {
          "output_type": "execute_result",
          "data": {
            "text/plain": [
              "          clientASN                                          latencyMs\n",
              "0              7922  [4294967296.0, 4294967040.0, 4294967296.0, 429...\n",
              "1              7922  [4294967296.0, 4294967040.0, 4294967296.0, 429...\n",
              "2              7922  [4294967296.0, 4294967040.0, 4294967296.0, 429...\n",
              "3              7922  [4294967296.0, 4294967040.0, 4294967296.0, 429...\n",
              "4              7922  [4294967296.0, 4294967040.0, 4294967296.0, 429...\n",
              "...             ...                                                ...\n",
              "10045933       7922  [0.01, 19.2, 15.3, 16.5, 14.7, 18.9, 15.0, 14....\n",
              "10045934       7922  [130.0, 102.0, 79.0, 22.0, 73.0, 23.0, 28.0, 2...\n",
              "10045935       7922  [17.0, 17.0, 18.0, 17.0, 15.0, 24.0, 20.0, 0.0...\n",
              "10045936       7922  [22.5, 0.01, 0.01, 0.01, 0.01, 0.01, 0.01, 0.0...\n",
              "10045937       7922  [18.0, 14.0, 11.0, 11.0, 15.0, 0.01, 4.0, 14.0...\n",
              "\n",
              "[10045938 rows x 2 columns]"
            ],
            "text/html": [
              "\n",
              "  <div id=\"df-96348174-00bd-4bc5-a7d5-3bf5ea4ad15a\" class=\"colab-df-container\">\n",
              "    <div>\n",
              "<style scoped>\n",
              "    .dataframe tbody tr th:only-of-type {\n",
              "        vertical-align: middle;\n",
              "    }\n",
              "\n",
              "    .dataframe tbody tr th {\n",
              "        vertical-align: top;\n",
              "    }\n",
              "\n",
              "    .dataframe thead th {\n",
              "        text-align: right;\n",
              "    }\n",
              "</style>\n",
              "<table border=\"1\" class=\"dataframe\">\n",
              "  <thead>\n",
              "    <tr style=\"text-align: right;\">\n",
              "      <th></th>\n",
              "      <th>clientASN</th>\n",
              "      <th>latencyMs</th>\n",
              "    </tr>\n",
              "  </thead>\n",
              "  <tbody>\n",
              "    <tr>\n",
              "      <th>0</th>\n",
              "      <td>7922</td>\n",
              "      <td>[4294967296.0, 4294967040.0, 4294967296.0, 429...</td>\n",
              "    </tr>\n",
              "    <tr>\n",
              "      <th>1</th>\n",
              "      <td>7922</td>\n",
              "      <td>[4294967296.0, 4294967040.0, 4294967296.0, 429...</td>\n",
              "    </tr>\n",
              "    <tr>\n",
              "      <th>2</th>\n",
              "      <td>7922</td>\n",
              "      <td>[4294967296.0, 4294967040.0, 4294967296.0, 429...</td>\n",
              "    </tr>\n",
              "    <tr>\n",
              "      <th>3</th>\n",
              "      <td>7922</td>\n",
              "      <td>[4294967296.0, 4294967040.0, 4294967296.0, 429...</td>\n",
              "    </tr>\n",
              "    <tr>\n",
              "      <th>4</th>\n",
              "      <td>7922</td>\n",
              "      <td>[4294967296.0, 4294967040.0, 4294967296.0, 429...</td>\n",
              "    </tr>\n",
              "    <tr>\n",
              "      <th>...</th>\n",
              "      <td>...</td>\n",
              "      <td>...</td>\n",
              "    </tr>\n",
              "    <tr>\n",
              "      <th>10045933</th>\n",
              "      <td>7922</td>\n",
              "      <td>[0.01, 19.2, 15.3, 16.5, 14.7, 18.9, 15.0, 14....</td>\n",
              "    </tr>\n",
              "    <tr>\n",
              "      <th>10045934</th>\n",
              "      <td>7922</td>\n",
              "      <td>[130.0, 102.0, 79.0, 22.0, 73.0, 23.0, 28.0, 2...</td>\n",
              "    </tr>\n",
              "    <tr>\n",
              "      <th>10045935</th>\n",
              "      <td>7922</td>\n",
              "      <td>[17.0, 17.0, 18.0, 17.0, 15.0, 24.0, 20.0, 0.0...</td>\n",
              "    </tr>\n",
              "    <tr>\n",
              "      <th>10045936</th>\n",
              "      <td>7922</td>\n",
              "      <td>[22.5, 0.01, 0.01, 0.01, 0.01, 0.01, 0.01, 0.0...</td>\n",
              "    </tr>\n",
              "    <tr>\n",
              "      <th>10045937</th>\n",
              "      <td>7922</td>\n",
              "      <td>[18.0, 14.0, 11.0, 11.0, 15.0, 0.01, 4.0, 14.0...</td>\n",
              "    </tr>\n",
              "  </tbody>\n",
              "</table>\n",
              "<p>10045938 rows × 2 columns</p>\n",
              "</div>\n",
              "    <div class=\"colab-df-buttons\">\n",
              "\n",
              "  <div class=\"colab-df-container\">\n",
              "    <button class=\"colab-df-convert\" onclick=\"convertToInteractive('df-96348174-00bd-4bc5-a7d5-3bf5ea4ad15a')\"\n",
              "            title=\"Convert this dataframe to an interactive table.\"\n",
              "            style=\"display:none;\">\n",
              "\n",
              "  <svg xmlns=\"http://www.w3.org/2000/svg\" height=\"24px\" viewBox=\"0 -960 960 960\">\n",
              "    <path d=\"M120-120v-720h720v720H120Zm60-500h600v-160H180v160Zm220 220h160v-160H400v160Zm0 220h160v-160H400v160ZM180-400h160v-160H180v160Zm440 0h160v-160H620v160ZM180-180h160v-160H180v160Zm440 0h160v-160H620v160Z\"/>\n",
              "  </svg>\n",
              "    </button>\n",
              "\n",
              "  <style>\n",
              "    .colab-df-container {\n",
              "      display:flex;\n",
              "      gap: 12px;\n",
              "    }\n",
              "\n",
              "    .colab-df-convert {\n",
              "      background-color: #E8F0FE;\n",
              "      border: none;\n",
              "      border-radius: 50%;\n",
              "      cursor: pointer;\n",
              "      display: none;\n",
              "      fill: #1967D2;\n",
              "      height: 32px;\n",
              "      padding: 0 0 0 0;\n",
              "      width: 32px;\n",
              "    }\n",
              "\n",
              "    .colab-df-convert:hover {\n",
              "      background-color: #E2EBFA;\n",
              "      box-shadow: 0px 1px 2px rgba(60, 64, 67, 0.3), 0px 1px 3px 1px rgba(60, 64, 67, 0.15);\n",
              "      fill: #174EA6;\n",
              "    }\n",
              "\n",
              "    .colab-df-buttons div {\n",
              "      margin-bottom: 4px;\n",
              "    }\n",
              "\n",
              "    [theme=dark] .colab-df-convert {\n",
              "      background-color: #3B4455;\n",
              "      fill: #D2E3FC;\n",
              "    }\n",
              "\n",
              "    [theme=dark] .colab-df-convert:hover {\n",
              "      background-color: #434B5C;\n",
              "      box-shadow: 0px 1px 3px 1px rgba(0, 0, 0, 0.15);\n",
              "      filter: drop-shadow(0px 1px 2px rgba(0, 0, 0, 0.3));\n",
              "      fill: #FFFFFF;\n",
              "    }\n",
              "  </style>\n",
              "\n",
              "    <script>\n",
              "      const buttonEl =\n",
              "        document.querySelector('#df-96348174-00bd-4bc5-a7d5-3bf5ea4ad15a button.colab-df-convert');\n",
              "      buttonEl.style.display =\n",
              "        google.colab.kernel.accessAllowed ? 'block' : 'none';\n",
              "\n",
              "      async function convertToInteractive(key) {\n",
              "        const element = document.querySelector('#df-96348174-00bd-4bc5-a7d5-3bf5ea4ad15a');\n",
              "        const dataTable =\n",
              "          await google.colab.kernel.invokeFunction('convertToInteractive',\n",
              "                                                    [key], {});\n",
              "        if (!dataTable) return;\n",
              "\n",
              "        const docLinkHtml = 'Like what you see? Visit the ' +\n",
              "          '<a target=\"_blank\" href=https://colab.research.google.com/notebooks/data_table.ipynb>data table notebook</a>'\n",
              "          + ' to learn more about interactive tables.';\n",
              "        element.innerHTML = '';\n",
              "        dataTable['output_type'] = 'display_data';\n",
              "        await google.colab.output.renderOutput(dataTable, element);\n",
              "        const docLink = document.createElement('div');\n",
              "        docLink.innerHTML = docLinkHtml;\n",
              "        element.appendChild(docLink);\n",
              "      }\n",
              "    </script>\n",
              "  </div>\n",
              "\n",
              "\n",
              "<div id=\"df-cc70261d-d7c8-4ad2-a38b-560a7203e487\">\n",
              "  <button class=\"colab-df-quickchart\" onclick=\"quickchart('df-cc70261d-d7c8-4ad2-a38b-560a7203e487')\"\n",
              "            title=\"Suggest charts\"\n",
              "            style=\"display:none;\">\n",
              "\n",
              "<svg xmlns=\"http://www.w3.org/2000/svg\" height=\"24px\"viewBox=\"0 0 24 24\"\n",
              "     width=\"24px\">\n",
              "    <g>\n",
              "        <path d=\"M19 3H5c-1.1 0-2 .9-2 2v14c0 1.1.9 2 2 2h14c1.1 0 2-.9 2-2V5c0-1.1-.9-2-2-2zM9 17H7v-7h2v7zm4 0h-2V7h2v10zm4 0h-2v-4h2v4z\"/>\n",
              "    </g>\n",
              "</svg>\n",
              "  </button>\n",
              "\n",
              "<style>\n",
              "  .colab-df-quickchart {\n",
              "      --bg-color: #E8F0FE;\n",
              "      --fill-color: #1967D2;\n",
              "      --hover-bg-color: #E2EBFA;\n",
              "      --hover-fill-color: #174EA6;\n",
              "      --disabled-fill-color: #AAA;\n",
              "      --disabled-bg-color: #DDD;\n",
              "  }\n",
              "\n",
              "  [theme=dark] .colab-df-quickchart {\n",
              "      --bg-color: #3B4455;\n",
              "      --fill-color: #D2E3FC;\n",
              "      --hover-bg-color: #434B5C;\n",
              "      --hover-fill-color: #FFFFFF;\n",
              "      --disabled-bg-color: #3B4455;\n",
              "      --disabled-fill-color: #666;\n",
              "  }\n",
              "\n",
              "  .colab-df-quickchart {\n",
              "    background-color: var(--bg-color);\n",
              "    border: none;\n",
              "    border-radius: 50%;\n",
              "    cursor: pointer;\n",
              "    display: none;\n",
              "    fill: var(--fill-color);\n",
              "    height: 32px;\n",
              "    padding: 0;\n",
              "    width: 32px;\n",
              "  }\n",
              "\n",
              "  .colab-df-quickchart:hover {\n",
              "    background-color: var(--hover-bg-color);\n",
              "    box-shadow: 0 1px 2px rgba(60, 64, 67, 0.3), 0 1px 3px 1px rgba(60, 64, 67, 0.15);\n",
              "    fill: var(--button-hover-fill-color);\n",
              "  }\n",
              "\n",
              "  .colab-df-quickchart-complete:disabled,\n",
              "  .colab-df-quickchart-complete:disabled:hover {\n",
              "    background-color: var(--disabled-bg-color);\n",
              "    fill: var(--disabled-fill-color);\n",
              "    box-shadow: none;\n",
              "  }\n",
              "\n",
              "  .colab-df-spinner {\n",
              "    border: 2px solid var(--fill-color);\n",
              "    border-color: transparent;\n",
              "    border-bottom-color: var(--fill-color);\n",
              "    animation:\n",
              "      spin 1s steps(1) infinite;\n",
              "  }\n",
              "\n",
              "  @keyframes spin {\n",
              "    0% {\n",
              "      border-color: transparent;\n",
              "      border-bottom-color: var(--fill-color);\n",
              "      border-left-color: var(--fill-color);\n",
              "    }\n",
              "    20% {\n",
              "      border-color: transparent;\n",
              "      border-left-color: var(--fill-color);\n",
              "      border-top-color: var(--fill-color);\n",
              "    }\n",
              "    30% {\n",
              "      border-color: transparent;\n",
              "      border-left-color: var(--fill-color);\n",
              "      border-top-color: var(--fill-color);\n",
              "      border-right-color: var(--fill-color);\n",
              "    }\n",
              "    40% {\n",
              "      border-color: transparent;\n",
              "      border-right-color: var(--fill-color);\n",
              "      border-top-color: var(--fill-color);\n",
              "    }\n",
              "    60% {\n",
              "      border-color: transparent;\n",
              "      border-right-color: var(--fill-color);\n",
              "    }\n",
              "    80% {\n",
              "      border-color: transparent;\n",
              "      border-right-color: var(--fill-color);\n",
              "      border-bottom-color: var(--fill-color);\n",
              "    }\n",
              "    90% {\n",
              "      border-color: transparent;\n",
              "      border-bottom-color: var(--fill-color);\n",
              "    }\n",
              "  }\n",
              "</style>\n",
              "\n",
              "  <script>\n",
              "    async function quickchart(key) {\n",
              "      const quickchartButtonEl =\n",
              "        document.querySelector('#' + key + ' button');\n",
              "      quickchartButtonEl.disabled = true;  // To prevent multiple clicks.\n",
              "      quickchartButtonEl.classList.add('colab-df-spinner');\n",
              "      try {\n",
              "        const charts = await google.colab.kernel.invokeFunction(\n",
              "            'suggestCharts', [key], {});\n",
              "      } catch (error) {\n",
              "        console.error('Error during call to suggestCharts:', error);\n",
              "      }\n",
              "      quickchartButtonEl.classList.remove('colab-df-spinner');\n",
              "      quickchartButtonEl.classList.add('colab-df-quickchart-complete');\n",
              "    }\n",
              "    (() => {\n",
              "      let quickchartButtonEl =\n",
              "        document.querySelector('#df-cc70261d-d7c8-4ad2-a38b-560a7203e487 button');\n",
              "      quickchartButtonEl.style.display =\n",
              "        google.colab.kernel.accessAllowed ? 'block' : 'none';\n",
              "    })();\n",
              "  </script>\n",
              "</div>\n",
              "    </div>\n",
              "  </div>\n"
            ],
            "application/vnd.google.colaboratory.intrinsic+json": {
              "type": "dataframe",
              "variable_name": "results"
            }
          },
          "metadata": {},
          "execution_count": 5
        }
      ],
      "source": [
        "# Running this code will read results from your previous job\n",
        "\n",
        "job = client.get_job('bquxjob_157ac143_18dd583a910') # Job ID inserted based on the query results selected to explore\n",
        "results = job.to_dataframe()\n",
        "results"
      ]
    },
    {
      "cell_type": "markdown",
      "metadata": {
        "id": "84Ub57pbB6EN"
      },
      "source": [
        "## Show descriptive statistics using describe()\n",
        "Use the ```pandas DataFrame.describe()```\n",
        "[method](https://pandas.pydata.org/docs/reference/api/pandas.DataFrame.describe.html)\n",
        "to generate descriptive statistics. Descriptive statistics include those that\n",
        "summarize the central tendency, dispersion and shape of a dataset’s\n",
        "distribution, excluding ```NaN``` values. You may also use other Python methods\n",
        "to interact with your data."
      ]
    },
    {
      "cell_type": "code",
      "execution_count": 6,
      "metadata": {
        "id": "fsAsHoWDZMpv"
      },
      "outputs": [],
      "source": [
        "results_noASN = results.drop(columns=\"clientASN\")"
      ]
    },
    {
      "cell_type": "code",
      "source": [
        "expanded_latency = pd.DataFrame([[v for lst in arr for v in lst] for arr in results_noASN.values])\n",
        "expanded_latency"
      ],
      "metadata": {
        "id": "WG614lo9herN"
      },
      "execution_count": null,
      "outputs": []
    },
    {
      "cell_type": "code",
      "source": [
        "[v for v in results_noASN.values[0]]"
      ],
      "metadata": {
        "id": "4OqMdMKhiXNl",
        "outputId": "906ba985-ed86-4e43-82fd-47434772d420",
        "colab": {
          "base_uri": "https://localhost:8080/"
        }
      },
      "execution_count": 8,
      "outputs": [
        {
          "output_type": "execute_result",
          "data": {
            "text/plain": [
              "[array([4.29496730e+09, 4.29496704e+09, 4.29496730e+09, 4.29496730e+09,\n",
              "        4.29496730e+09, 4.29496730e+09, 4.29496730e+09, 4.29496730e+09,\n",
              "        4.29496730e+09, 4.29496730e+09, 4.29496730e+09, 4.29496730e+09,\n",
              "        4.29496730e+09, 4.29496730e+09, 4.29496730e+09, 4.29496730e+09,\n",
              "        4.29496730e+09, 4.29496730e+09, 4.29496730e+09, 4.29496730e+09])]"
            ]
          },
          "metadata": {},
          "execution_count": 8
        }
      ]
    },
    {
      "cell_type": "code",
      "source": [
        "[[v for lst in arr for v in lst] for arr in results_noASN.iloc[0:2].values]"
      ],
      "metadata": {
        "id": "Aau3iJleor7B",
        "outputId": "77153d8b-ce41-4a1d-ea21-b1f07acace04",
        "colab": {
          "base_uri": "https://localhost:8080/"
        }
      },
      "execution_count": 31,
      "outputs": [
        {
          "output_type": "execute_result",
          "data": {
            "text/plain": [
              "[[4294967296.0,\n",
              "  4294967040.0,\n",
              "  4294967296.0,\n",
              "  4294967296.0,\n",
              "  4294967296.0,\n",
              "  4294967296.0,\n",
              "  4294967296.0,\n",
              "  4294967296.0,\n",
              "  4294967296.0,\n",
              "  4294967296.0,\n",
              "  4294967296.0,\n",
              "  4294967296.0,\n",
              "  4294967296.0,\n",
              "  4294967296.0,\n",
              "  4294967296.0,\n",
              "  4294967296.0,\n",
              "  4294967296.0,\n",
              "  4294967296.0,\n",
              "  4294967296.0,\n",
              "  4294967296.0],\n",
              " [4294967296.0,\n",
              "  4294967040.0,\n",
              "  4294967296.0,\n",
              "  4294967296.0,\n",
              "  4294967296.0,\n",
              "  4294967296.0,\n",
              "  4294967296.0,\n",
              "  4294967296.0,\n",
              "  4294967296.0,\n",
              "  4294967296.0,\n",
              "  4294967296.0,\n",
              "  4294967296.0,\n",
              "  4294967296.0,\n",
              "  4294967296.0,\n",
              "  4294967296.0,\n",
              "  4294967296.0,\n",
              "  4294967296.0,\n",
              "  4294967296.0,\n",
              "  4294967296.0,\n",
              "  4294967296.0]]"
            ]
          },
          "metadata": {},
          "execution_count": 31
        }
      ]
    },
    {
      "cell_type": "code",
      "source": [
        "subset_1000 = pd.DataFrame([[v for lst in arr for v in lst] for arr in results_noASN.iloc[0:1000].values])"
      ],
      "metadata": {
        "id": "IyIoN_dgjrOB"
      },
      "execution_count": 22,
      "outputs": []
    },
    {
      "cell_type": "code",
      "source": [
        "mean_max_min_1000000 = pd.DataFrame([a[0] for a in [[[np.mean(lst), np.max(lst), np.min(lst)] for lst in arr] for arr in results_noASN.iloc[0:1000000].values]], columns=[\"Mean\", \"Max\", \"Min\"])"
      ],
      "metadata": {
        "id": "LByYfZ5Pn1Gt"
      },
      "execution_count": 48,
      "outputs": []
    },
    {
      "cell_type": "code",
      "source": [
        "print(mean_max_min_1000000.iloc[0][\"Max\"])\n",
        "print(mean_max_min_1000000.iloc[0][\"Min\"])\n",
        "print(mean_max_min_1000000.iloc[0][\"Mean\"])"
      ],
      "metadata": {
        "id": "1XRuJGgXp0xX",
        "outputId": "62b74ffb-ec30-410d-94e9-b6ba6d79de53",
        "colab": {
          "base_uri": "https://localhost:8080/"
        }
      },
      "execution_count": 56,
      "outputs": [
        {
          "output_type": "stream",
          "name": "stdout",
          "text": [
            "4294967296.0\n",
            "4294967040.0\n",
            "4294967283.2\n"
          ]
        }
      ]
    },
    {
      "cell_type": "code",
      "source": [
        "mean_max_min_1000000[\"Mean\"][0:1000]"
      ],
      "metadata": {
        "id": "7fs0CjS7sEHW",
        "outputId": "920705a8-f301-4ff4-b507-d524d6e1d496",
        "colab": {
          "base_uri": "https://localhost:8080/"
        }
      },
      "execution_count": 63,
      "outputs": [
        {
          "output_type": "execute_result",
          "data": {
            "text/plain": [
              "0      4.294967e+09\n",
              "1      4.294967e+09\n",
              "2      4.294967e+09\n",
              "3      4.294967e+09\n",
              "4      4.294967e+09\n",
              "           ...     \n",
              "995    7.657500e+02\n",
              "996    2.641550e+03\n",
              "997    1.218400e+03\n",
              "998    7.680050e+02\n",
              "999    7.668000e+02\n",
              "Name: Mean, Length: 1000, dtype: float64"
            ]
          },
          "metadata": {},
          "execution_count": 63
        }
      ]
    },
    {
      "cell_type": "code",
      "source": [
        "error_bar = mean_max_min_1000000[\"Max\"]-mean_max_min_1000000[\"Min\"]"
      ],
      "metadata": {
        "id": "GK9l4oqbqmFb"
      },
      "execution_count": 57,
      "outputs": []
    },
    {
      "cell_type": "code",
      "source": [
        "error_bar"
      ],
      "metadata": {
        "id": "FEBOimjIqq0l",
        "outputId": "9675c799-ca6f-4c6e-8d42-f30142628801",
        "colab": {
          "base_uri": "https://localhost:8080/"
        }
      },
      "execution_count": 58,
      "outputs": [
        {
          "output_type": "execute_result",
          "data": {
            "text/plain": [
              "0         256.0\n",
              "1         256.0\n",
              "2         256.0\n",
              "3         256.0\n",
              "4         256.0\n",
              "          ...  \n",
              "999995    191.8\n",
              "999996     62.3\n",
              "999997     32.6\n",
              "999998    768.1\n",
              "999999     54.8\n",
              "Length: 1000000, dtype: float64"
            ]
          },
          "metadata": {},
          "execution_count": 58
        }
      ]
    },
    {
      "cell_type": "code",
      "source": [
        "10**10"
      ],
      "metadata": {
        "id": "hEeCqmP4sl_M",
        "outputId": "a5665c3d-5736-4122-cec1-d616421bee01",
        "colab": {
          "base_uri": "https://localhost:8080/"
        }
      },
      "execution_count": 72,
      "outputs": [
        {
          "output_type": "execute_result",
          "data": {
            "text/plain": [
              "10000000000"
            ]
          },
          "metadata": {},
          "execution_count": 72
        }
      ]
    },
    {
      "cell_type": "code",
      "source": [
        "import matplotlib.pyplot as plt\n",
        "import numpy as np\n",
        "\n",
        "# example data\n",
        "x = np.arange(1, 101, 1)\n",
        "y = mean_max_min_1000000[\"Mean\"][0:100]\n",
        "\n",
        "# example error bar values that vary with x-position\n",
        "error = error_bar[0:100]\n",
        "\n",
        "#fig, (ax0, ax1) = plt.subplots(nrows=2, sharex=True)\n",
        "fig, ax0 = plt.subplots(nrows=1)\n",
        "ax0.errorbar(x, y, yerr=error, fmt='-o')\n",
        "ax0.set_title('Comcast Latency Plots')\n",
        "ax0.set_yscale('log')\n",
        "plt.ylim([0.1, 10**11])\n",
        "# error bar values w/ different -/+ errors that\n",
        "# also vary with the x-position\n",
        "\"\"\"\n",
        "lower_error = 0.4 * error\n",
        "upper_error = error\n",
        "asymmetric_error = [lower_error, upper_error]\n",
        "\n",
        "ax1.errorbar(x, y, xerr=asymmetric_error, fmt='o')\n",
        "ax1.set_title('variable, asymmetric error')\n",
        "ax1.set_yscale('log')\n",
        "\"\"\"\n",
        "plt.show()"
      ],
      "metadata": {
        "id": "kLaFNnyTj5KO",
        "outputId": "dc9bf39c-0011-4cbc-a08a-55c14929099b",
        "colab": {
          "base_uri": "https://localhost:8080/",
          "height": 452
        }
      },
      "execution_count": 76,
      "outputs": [
        {
          "output_type": "display_data",
          "data": {
            "text/plain": [
              "<Figure size 640x480 with 1 Axes>"
            ],
            "image/png": "[encoded data removed]"
          },
          "metadata": {}
        }
      ]
    },
    {
      "cell_type": "code",
      "source": [
        "fig, ax = plt.subplots(figsize=(15, 6))\n",
        "\n",
        "ax.bar(x=np.arange(1, 101, 1), height=mean_max_min_1000000[\"Mean\"][0:100])\n",
        "ax.set_yscale('log')\n",
        "\n",
        "for i,p in enumerate(ax.patches):\n",
        "    x = p.get_x()  # get the bottom left x corner of the bar\n",
        "    w = p.get_width()  # get width of bar\n",
        "    h = p.get_height()  # get height of bar\n",
        "    min_y = mean_max_min_1000000[\"Min\"][i]\n",
        "    max_y = mean_max_min_1000000[\"Max\"][i]\n",
        "    plt.vlines(x+w/2, min_y, max_y, color='k')  # draw a vertical line\n",
        "plt.ylim([1, 10**11])\n",
        "ax.set_title('Comcast Latency Plots: with error bars showing Max, Min Values')"
      ],
      "metadata": {
        "id": "SDQqKdLCnwjn",
        "outputId": "9d14b750-079e-4637-b4d8-4047547c7fa4",
        "colab": {
          "base_uri": "https://localhost:8080/",
          "height": 562
        }
      },
      "execution_count": 83,
      "outputs": [
        {
          "output_type": "execute_result",
          "data": {
            "text/plain": [
              "Text(0.5, 1.0, 'Comcast Latency Plots: with error bars showing Max, Min Values')"
            ]
          },
          "metadata": {},
          "execution_count": 83
        },
        {
          "output_type": "display_data",
          "data": {
            "text/plain": [
              "<Figure size 1500x600 with 1 Axes>"
            ],
            "image/png": "[encoded data removed]"
          },
          "metadata": {}
        }
      ]
    },
    {
      "cell_type": "code",
      "source": [],
      "metadata": {
        "id": "ZjmIn1uutcWb"
      },
      "execution_count": null,
      "outputs": []
    }
  ],
  "metadata": {
    "colab": {
      "cell_execution_strategy": "setup",
      "name": "BigQuery bquxjob_157ac143_18dd583a910",
      "provenance": [],
      "include_colab_link": true
    },
    "kernelspec": {
      "display_name": "Python 3",
      "name": "python3"
    },
    "language_info": {
      "name": "python"
    }
  },
  "nbformat": 4,
  "nbformat_minor": 0
}